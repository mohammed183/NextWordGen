{
  "nbformat": 4,
  "nbformat_minor": 0,
  "metadata": {
    "colab": {
      "provenance": []
    },
    "kernelspec": {
      "name": "python3",
      "display_name": "Python 3"
    },
    "language_info": {
      "name": "python"
    }
  },
  "cells": [
    {
      "cell_type": "markdown",
      "source": [
        "## Firstly all imports are done, Tensorflow will be used to create our word generation model"
      ],
      "metadata": {
        "id": "Rq1f83-iDiia"
      }
    },
    {
      "cell_type": "code",
      "execution_count": 1,
      "metadata": {
        "id": "u9MX5fOSnGR2"
      },
      "outputs": [],
      "source": [
        "import tensorflow as tf\n",
        "import pickle\n",
        "import numpy as np\n",
        "import os\n",
        "from tensorflow.keras.layers import Dense, LSTM, Embedding\n",
        "from tensorflow.keras.preprocessing.text import Tokenizer\n",
        "from tensorflow.keras.models import Sequential\n",
        "from tensorflow.keras.optimizers import Adam\n",
        "from tensorflow.keras.utils import to_categorical\n",
        "from google.colab import files"
      ]
    },
    {
      "cell_type": "code",
      "source": [
        "# Upload any folder to your liking but add its name to function in next cell and make sure it uses URT8 encoding\n",
        "upload = files.upload()"
      ],
      "metadata": {
        "colab": {
          "base_uri": "https://localhost:8080/",
          "height": 74
        },
        "id": "vCzA2796oH1s",
        "outputId": "0630cb1d-d19b-4f28-c065-3f651f8c56d9"
      },
      "execution_count": 2,
      "outputs": [
        {
          "output_type": "display_data",
          "data": {
            "text/plain": [
              "<IPython.core.display.HTML object>"
            ],
            "text/html": [
              "\n",
              "     <input type=\"file\" id=\"files-d34de6c3-2c01-49b5-8e72-3f7c50c56780\" name=\"files[]\" multiple disabled\n",
              "        style=\"border:none\" />\n",
              "     <output id=\"result-d34de6c3-2c01-49b5-8e72-3f7c50c56780\">\n",
              "      Upload widget is only available when the cell has been executed in the\n",
              "      current browser session. Please rerun this cell to enable.\n",
              "      </output>\n",
              "      <script>// Copyright 2017 Google LLC\n",
              "//\n",
              "// Licensed under the Apache License, Version 2.0 (the \"License\");\n",
              "// you may not use this file except in compliance with the License.\n",
              "// You may obtain a copy of the License at\n",
              "//\n",
              "//      http://www.apache.org/licenses/LICENSE-2.0\n",
              "//\n",
              "// Unless required by applicable law or agreed to in writing, software\n",
              "// distributed under the License is distributed on an \"AS IS\" BASIS,\n",
              "// WITHOUT WARRANTIES OR CONDITIONS OF ANY KIND, either express or implied.\n",
              "// See the License for the specific language governing permissions and\n",
              "// limitations under the License.\n",
              "\n",
              "/**\n",
              " * @fileoverview Helpers for google.colab Python module.\n",
              " */\n",
              "(function(scope) {\n",
              "function span(text, styleAttributes = {}) {\n",
              "  const element = document.createElement('span');\n",
              "  element.textContent = text;\n",
              "  for (const key of Object.keys(styleAttributes)) {\n",
              "    element.style[key] = styleAttributes[key];\n",
              "  }\n",
              "  return element;\n",
              "}\n",
              "\n",
              "// Max number of bytes which will be uploaded at a time.\n",
              "const MAX_PAYLOAD_SIZE = 100 * 1024;\n",
              "\n",
              "function _uploadFiles(inputId, outputId) {\n",
              "  const steps = uploadFilesStep(inputId, outputId);\n",
              "  const outputElement = document.getElementById(outputId);\n",
              "  // Cache steps on the outputElement to make it available for the next call\n",
              "  // to uploadFilesContinue from Python.\n",
              "  outputElement.steps = steps;\n",
              "\n",
              "  return _uploadFilesContinue(outputId);\n",
              "}\n",
              "\n",
              "// This is roughly an async generator (not supported in the browser yet),\n",
              "// where there are multiple asynchronous steps and the Python side is going\n",
              "// to poll for completion of each step.\n",
              "// This uses a Promise to block the python side on completion of each step,\n",
              "// then passes the result of the previous step as the input to the next step.\n",
              "function _uploadFilesContinue(outputId) {\n",
              "  const outputElement = document.getElementById(outputId);\n",
              "  const steps = outputElement.steps;\n",
              "\n",
              "  const next = steps.next(outputElement.lastPromiseValue);\n",
              "  return Promise.resolve(next.value.promise).then((value) => {\n",
              "    // Cache the last promise value to make it available to the next\n",
              "    // step of the generator.\n",
              "    outputElement.lastPromiseValue = value;\n",
              "    return next.value.response;\n",
              "  });\n",
              "}\n",
              "\n",
              "/**\n",
              " * Generator function which is called between each async step of the upload\n",
              " * process.\n",
              " * @param {string} inputId Element ID of the input file picker element.\n",
              " * @param {string} outputId Element ID of the output display.\n",
              " * @return {!Iterable<!Object>} Iterable of next steps.\n",
              " */\n",
              "function* uploadFilesStep(inputId, outputId) {\n",
              "  const inputElement = document.getElementById(inputId);\n",
              "  inputElement.disabled = false;\n",
              "\n",
              "  const outputElement = document.getElementById(outputId);\n",
              "  outputElement.innerHTML = '';\n",
              "\n",
              "  const pickedPromise = new Promise((resolve) => {\n",
              "    inputElement.addEventListener('change', (e) => {\n",
              "      resolve(e.target.files);\n",
              "    });\n",
              "  });\n",
              "\n",
              "  const cancel = document.createElement('button');\n",
              "  inputElement.parentElement.appendChild(cancel);\n",
              "  cancel.textContent = 'Cancel upload';\n",
              "  const cancelPromise = new Promise((resolve) => {\n",
              "    cancel.onclick = () => {\n",
              "      resolve(null);\n",
              "    };\n",
              "  });\n",
              "\n",
              "  // Wait for the user to pick the files.\n",
              "  const files = yield {\n",
              "    promise: Promise.race([pickedPromise, cancelPromise]),\n",
              "    response: {\n",
              "      action: 'starting',\n",
              "    }\n",
              "  };\n",
              "\n",
              "  cancel.remove();\n",
              "\n",
              "  // Disable the input element since further picks are not allowed.\n",
              "  inputElement.disabled = true;\n",
              "\n",
              "  if (!files) {\n",
              "    return {\n",
              "      response: {\n",
              "        action: 'complete',\n",
              "      }\n",
              "    };\n",
              "  }\n",
              "\n",
              "  for (const file of files) {\n",
              "    const li = document.createElement('li');\n",
              "    li.append(span(file.name, {fontWeight: 'bold'}));\n",
              "    li.append(span(\n",
              "        `(${file.type || 'n/a'}) - ${file.size} bytes, ` +\n",
              "        `last modified: ${\n",
              "            file.lastModifiedDate ? file.lastModifiedDate.toLocaleDateString() :\n",
              "                                    'n/a'} - `));\n",
              "    const percent = span('0% done');\n",
              "    li.appendChild(percent);\n",
              "\n",
              "    outputElement.appendChild(li);\n",
              "\n",
              "    const fileDataPromise = new Promise((resolve) => {\n",
              "      const reader = new FileReader();\n",
              "      reader.onload = (e) => {\n",
              "        resolve(e.target.result);\n",
              "      };\n",
              "      reader.readAsArrayBuffer(file);\n",
              "    });\n",
              "    // Wait for the data to be ready.\n",
              "    let fileData = yield {\n",
              "      promise: fileDataPromise,\n",
              "      response: {\n",
              "        action: 'continue',\n",
              "      }\n",
              "    };\n",
              "\n",
              "    // Use a chunked sending to avoid message size limits. See b/62115660.\n",
              "    let position = 0;\n",
              "    do {\n",
              "      const length = Math.min(fileData.byteLength - position, MAX_PAYLOAD_SIZE);\n",
              "      const chunk = new Uint8Array(fileData, position, length);\n",
              "      position += length;\n",
              "\n",
              "      const base64 = btoa(String.fromCharCode.apply(null, chunk));\n",
              "      yield {\n",
              "        response: {\n",
              "          action: 'append',\n",
              "          file: file.name,\n",
              "          data: base64,\n",
              "        },\n",
              "      };\n",
              "\n",
              "      let percentDone = fileData.byteLength === 0 ?\n",
              "          100 :\n",
              "          Math.round((position / fileData.byteLength) * 100);\n",
              "      percent.textContent = `${percentDone}% done`;\n",
              "\n",
              "    } while (position < fileData.byteLength);\n",
              "  }\n",
              "\n",
              "  // All done.\n",
              "  yield {\n",
              "    response: {\n",
              "      action: 'complete',\n",
              "    }\n",
              "  };\n",
              "}\n",
              "\n",
              "scope.google = scope.google || {};\n",
              "scope.google.colab = scope.google.colab || {};\n",
              "scope.google.colab._files = {\n",
              "  _uploadFiles,\n",
              "  _uploadFilesContinue,\n",
              "};\n",
              "})(self);\n",
              "</script> "
            ]
          },
          "metadata": {}
        },
        {
          "output_type": "stream",
          "name": "stdout",
          "text": [
            "Saving 1661-0.txt to 1661-0.txt\n"
          ]
        }
      ]
    },
    {
      "cell_type": "markdown",
      "source": [
        "### The next function acts as text file tokenizer converting the text file into a very long array of words. This treats the book as a stream of continous words that makes sense which is not correct and should be changed but it was done just for simplicity.\n",
        "*(Preproccesing on the text file and droping unwanted lines should be done before this step)*"
      ],
      "metadata": {
        "id": "ctwZ2r3rEEw3"
      }
    },
    {
      "cell_type": "code",
      "source": [
        "def read_text_from_file(filename):\n",
        "  f = open(filename, 'r', encoding='utf8')\n",
        "\n",
        "  lines = []\n",
        "  data=''\n",
        "\n",
        "  for line in f:\n",
        "    lines.append(line)\n",
        "  for line in lines:\n",
        "    data = ' '.join(lines)\n",
        "\n",
        "  data = data.replace('\\n', ' ').replace('\\r', ' ').replace('\\ufeff', ' ')\n",
        "  data = data.split()\n",
        "  data = ' '.join(data)\n",
        "  data = data.lower()\n",
        "  return data"
      ],
      "metadata": {
        "id": "oTQmGEHmowOC"
      },
      "execution_count": 5,
      "outputs": []
    },
    {
      "cell_type": "code",
      "source": [
        "# Change the file name to your uploaded file name\n",
        "filename = '1661-0.txt'\n",
        "data = read_text_from_file(filename)\n",
        "data[:200]"
      ],
      "metadata": {
        "colab": {
          "base_uri": "https://localhost:8080/",
          "height": 55
        },
        "id": "KhXOCHvgo3iu",
        "outputId": "d1940409-2018-4395-8299-4f9dff83347d"
      },
      "execution_count": 6,
      "outputs": [
        {
          "output_type": "execute_result",
          "data": {
            "text/plain": [
              "'the project gutenberg ebook of the adventures of sherlock holmes, by arthur conan doyle this ebook is for the use of anyone anywhere in the united states and most other parts of the world at no cost a'"
            ],
            "application/vnd.google.colaboratory.intrinsic+json": {
              "type": "string"
            }
          },
          "metadata": {},
          "execution_count": 6
        }
      ]
    },
    {
      "cell_type": "markdown",
      "source": [
        "## Secondly, using a tokenizer we will convert each unique word to an index\n",
        "*so now we just want to predict the next index, by finding what is the most likely index to appear after an array of a specific number of words*"
      ],
      "metadata": {
        "id": "DQW2TomNFNhQ"
      }
    },
    {
      "cell_type": "code",
      "source": [
        "tokenizer = Tokenizer()\n",
        "tokenizer.fit_on_texts([data])\n",
        "\n",
        "pickle.dump(tokenizer, open('wordPredv4.pkl', 'wb'))\n",
        "\n",
        "\n",
        "sequence_data = tokenizer.texts_to_sequences([data])[0]\n",
        "vocab_size = len(tokenizer.word_index) + 1\n"
      ],
      "metadata": {
        "id": "XmyljG5fo_JX"
      },
      "execution_count": 7,
      "outputs": []
    },
    {
      "cell_type": "code",
      "source": [
        "print(sequence_data[:10])\n",
        "print(len(sequence_data))\n",
        "print(vocab_size)\n",
        "print(len(data))"
      ],
      "metadata": {
        "colab": {
          "base_uri": "https://localhost:8080/"
        },
        "id": "urtgQ20VptCm",
        "outputId": "fbaad573-7586-43fd-fd69-ed142bf54d7a"
      },
      "execution_count": 8,
      "outputs": [
        {
          "output_type": "stream",
          "name": "stdout",
          "text": [
            "[1, 144, 131, 885, 4, 1, 1092, 4, 129, 34]\n",
            "111201\n",
            "8913\n",
            "578417\n"
          ]
        }
      ]
    },
    {
      "cell_type": "markdown",
      "source": [
        "### The next two function are used to split the data and find the word using its key index"
      ],
      "metadata": {
        "id": "ENk2W95-FvbF"
      }
    },
    {
      "cell_type": "code",
      "source": [
        "def create_train_test(var, sequence_data):\n",
        "  X = []\n",
        "  y = []\n",
        "\n",
        "  for i in range(var, len(sequence_data)):\n",
        "    words = sequence_data[i-var:i]\n",
        "    X.append(words)\n",
        "    y.append(sequence_data[i])\n",
        "\n",
        "  X = np.array(X)\n",
        "  y = np.array(y)\n",
        "\n",
        "  return X, y"
      ],
      "metadata": {
        "id": "9baEms87puno"
      },
      "execution_count": 9,
      "outputs": []
    },
    {
      "cell_type": "code",
      "source": [
        "def find_word(val):\n",
        "    for key, value in tokenizer.word_index.items():\n",
        "      if value == val:\n",
        "          return key"
      ],
      "metadata": {
        "id": "Gh9hBntXpuws"
      },
      "execution_count": 10,
      "outputs": []
    },
    {
      "cell_type": "code",
      "source": [
        "#variable (var) is the sequence length used\n",
        "var = 5\n",
        "\n",
        "X, y = create_train_test(var=var, sequence_data=sequence_data)"
      ],
      "metadata": {
        "id": "apGc5BBlp0qX"
      },
      "execution_count": 12,
      "outputs": []
    },
    {
      "cell_type": "code",
      "source": [
        "print(len(X))\n",
        "print(len(y))\n",
        "print(len(X[1]))"
      ],
      "metadata": {
        "colab": {
          "base_uri": "https://localhost:8080/"
        },
        "id": "ZP5tWGpxp31g",
        "outputId": "2c8375d1-daad-408c-c801-4efcaad84571"
      },
      "execution_count": 13,
      "outputs": [
        {
          "output_type": "stream",
          "name": "stdout",
          "text": [
            "111196\n",
            "111196\n",
            "5\n"
          ]
        }
      ]
    },
    {
      "cell_type": "code",
      "source": [
        "print(f'{X[1]} \\n {y[1]}')\n",
        "print(f'{find_word(X[1][0])} {find_word(X[1][1])} {find_word(X[1][2])} {find_word(X[1][3])} {find_word(X[1][4])} {find_word(y[1])}')"
      ],
      "metadata": {
        "colab": {
          "base_uri": "https://localhost:8080/"
        },
        "id": "gK5NGvMqp6aT",
        "outputId": "e4f12d9e-2477-43cb-80a7-6783b8b064f3"
      },
      "execution_count": 14,
      "outputs": [
        {
          "output_type": "stream",
          "name": "stdout",
          "text": [
            "[144 131 885   4   1] \n",
            " 1092\n",
            "project gutenberg ebook of the adventures\n"
          ]
        }
      ]
    },
    {
      "cell_type": "markdown",
      "source": [
        "## Now we convert the labels to categorical labels as we want the model to predict the probability of each word.\n",
        "*keep in mind that we didn't limit our vocabulary which can make this very memory consuming*"
      ],
      "metadata": {
        "id": "4L-Sq9VJGP3s"
      }
    },
    {
      "cell_type": "code",
      "source": [
        "y = to_categorical(y, num_classes=vocab_size)\n",
        "\n",
        "y[:3]"
      ],
      "metadata": {
        "colab": {
          "base_uri": "https://localhost:8080/"
        },
        "id": "PbBIO6yzqHyX",
        "outputId": "f3bf6fc8-9839-41da-b396-be2bb49e3763"
      },
      "execution_count": 15,
      "outputs": [
        {
          "output_type": "execute_result",
          "data": {
            "text/plain": [
              "array([[0., 1., 0., ..., 0., 0., 0.],\n",
              "       [0., 0., 0., ..., 0., 0., 0.],\n",
              "       [0., 0., 0., ..., 0., 0., 0.]], dtype=float32)"
            ]
          },
          "metadata": {},
          "execution_count": 15
        }
      ]
    },
    {
      "cell_type": "code",
      "source": [
        "print(X.shape)\n",
        "print(y.shape)"
      ],
      "metadata": {
        "colab": {
          "base_uri": "https://localhost:8080/"
        },
        "id": "6zJow4cKqH7q",
        "outputId": "8d66ebc7-81ce-41dc-dd26-72dedf001048"
      },
      "execution_count": 16,
      "outputs": [
        {
          "output_type": "stream",
          "name": "stdout",
          "text": [
            "(111196, 5)\n",
            "(111196, 8913)\n"
          ]
        }
      ]
    },
    {
      "cell_type": "markdown",
      "source": [
        "## Glove 200d will be used as our embeddings instead of training our own embeddings\n",
        "*(weight initialization)*"
      ],
      "metadata": {
        "id": "jCkCDVJoHLdN"
      }
    },
    {
      "cell_type": "code",
      "source": [
        "!wget http://nlp.stanford.edu/data/glove.6B.zip"
      ],
      "metadata": {
        "colab": {
          "base_uri": "https://localhost:8080/"
        },
        "id": "TXkHcMZHqbs1",
        "outputId": "d0978c0e-11f4-4292-cbd6-f024fdbe8ecc"
      },
      "execution_count": 17,
      "outputs": [
        {
          "output_type": "stream",
          "name": "stdout",
          "text": [
            "--2023-02-12 10:11:19--  http://nlp.stanford.edu/data/glove.6B.zip\n",
            "Resolving nlp.stanford.edu (nlp.stanford.edu)... 171.64.67.140\n",
            "Connecting to nlp.stanford.edu (nlp.stanford.edu)|171.64.67.140|:80... connected.\n",
            "HTTP request sent, awaiting response... 302 Found\n",
            "Location: https://nlp.stanford.edu/data/glove.6B.zip [following]\n",
            "--2023-02-12 10:11:19--  https://nlp.stanford.edu/data/glove.6B.zip\n",
            "Connecting to nlp.stanford.edu (nlp.stanford.edu)|171.64.67.140|:443... connected.\n",
            "HTTP request sent, awaiting response... 301 Moved Permanently\n",
            "Location: https://downloads.cs.stanford.edu/nlp/data/glove.6B.zip [following]\n",
            "--2023-02-12 10:11:19--  https://downloads.cs.stanford.edu/nlp/data/glove.6B.zip\n",
            "Resolving downloads.cs.stanford.edu (downloads.cs.stanford.edu)... 171.64.64.22\n",
            "Connecting to downloads.cs.stanford.edu (downloads.cs.stanford.edu)|171.64.64.22|:443... connected.\n",
            "HTTP request sent, awaiting response... 200 OK\n",
            "Length: 862182613 (822M) [application/zip]\n",
            "Saving to: ‘glove.6B.zip’\n",
            "\n",
            "glove.6B.zip        100%[===================>] 822.24M  5.01MB/s    in 2m 39s  \n",
            "\n",
            "2023-02-12 10:13:58 (5.18 MB/s) - ‘glove.6B.zip’ saved [862182613/862182613]\n",
            "\n"
          ]
        }
      ]
    },
    {
      "cell_type": "code",
      "source": [
        "!unzip glove*.zip\n",
        "!rm glove*.zip"
      ],
      "metadata": {
        "colab": {
          "base_uri": "https://localhost:8080/"
        },
        "id": "_8WpcvZzqzmG",
        "outputId": "75fac434-e21a-40cf-9e8b-068ba128fe6e"
      },
      "execution_count": 18,
      "outputs": [
        {
          "output_type": "stream",
          "name": "stdout",
          "text": [
            "Archive:  glove.6B.zip\n",
            "  inflating: glove.6B.50d.txt        \n",
            "  inflating: glove.6B.100d.txt       \n",
            "  inflating: glove.6B.200d.txt       \n",
            "  inflating: glove.6B.300d.txt       \n"
          ]
        }
      ]
    },
    {
      "cell_type": "code",
      "source": [
        "# Load the embeddings in a dictionary\n",
        "embedding_dict = {}\n",
        "with open('/content/glove.6B.200d.txt', 'r') as f:\n",
        "  for line in f:\n",
        "    values = line.split()\n",
        "    word = values[0]\n",
        "    vectors = np.asarray(values[1:], 'float32')\n",
        "    embedding_dict[word] = vectors\n",
        "\n",
        "f.close()\n",
        "\n",
        "print('Loaded word vectors',len(embedding_dict))"
      ],
      "metadata": {
        "colab": {
          "base_uri": "https://localhost:8080/"
        },
        "id": "LFrWCGKNq77d",
        "outputId": "c783b274-5e11-496d-94b1-b8111980e401"
      },
      "execution_count": 19,
      "outputs": [
        {
          "output_type": "stream",
          "name": "stdout",
          "text": [
            "Loaded word vectors 400000\n"
          ]
        }
      ]
    },
    {
      "cell_type": "code",
      "source": [
        "# Create an embedding 200d matrix and get all the word embeddings in our tokenizer\n",
        "embedding_matrix = np.zeros((vocab_size,200))\n",
        "\n",
        "for word, i in tokenizer.word_index.items():\n",
        "  if i < vocab_size:\n",
        "    emb_vec = embedding_dict.get(word)\n",
        "    if emb_vec is not None:\n",
        "      embedding_matrix[i] = emb_vec"
      ],
      "metadata": {
        "id": "dMegwRHrsLnr"
      },
      "execution_count": 20,
      "outputs": []
    },
    {
      "cell_type": "markdown",
      "source": [
        "## Finally we create our Model using LSTM\n",
        "*Future version will use perplexity instead of CategoricalCrossentropy and more models will be added to compare outputs*"
      ],
      "metadata": {
        "id": "SUS4fHdtH0QG"
      }
    },
    {
      "cell_type": "code",
      "source": [
        "from tensorflow.keras.losses import CategoricalCrossentropy\n",
        "optimizer = Adam(learning_rate=0.0001)\n",
        "loss_function = CategoricalCrossentropy()\n",
        "additional_metrics = ['accuracy']\n",
        "epochs = 20\n",
        "verbosity_mode = 1"
      ],
      "metadata": {
        "id": "dgXztX-ztM63"
      },
      "execution_count": 25,
      "outputs": []
    },
    {
      "cell_type": "code",
      "source": [
        "model = Sequential()\n",
        "model.add(Embedding(vocab_size,200,weights=[embedding_matrix],trainable=False,input_length=var))\n",
        "model.add(LSTM(100,return_sequences=True))\n",
        "model.add(LSTM(100))\n",
        "  \n",
        "model.add(Dense(100, activation='relu'))\n",
        "model.add(Dense(vocab_size, activation='softmax'))\n",
        "\n",
        "# summarize defined model\n",
        "model.summary()"
      ],
      "metadata": {
        "colab": {
          "base_uri": "https://localhost:8080/"
        },
        "id": "l6keXC5Os1fk",
        "outputId": "25ee484b-0652-4bf5-f1f1-80aefea3206b"
      },
      "execution_count": 22,
      "outputs": [
        {
          "output_type": "stream",
          "name": "stdout",
          "text": [
            "Model: \"sequential\"\n",
            "_________________________________________________________________\n",
            " Layer (type)                Output Shape              Param #   \n",
            "=================================================================\n",
            " embedding (Embedding)       (None, 5, 200)            1782600   \n",
            "                                                                 \n",
            " lstm (LSTM)                 (None, 5, 100)            120400    \n",
            "                                                                 \n",
            " lstm_1 (LSTM)               (None, 150)               150600    \n",
            "                                                                 \n",
            " dense (Dense)               (None, 100)               15100     \n",
            "                                                                 \n",
            " dense_1 (Dense)             (None, 8913)              900213    \n",
            "                                                                 \n",
            "=================================================================\n",
            "Total params: 2,968,913\n",
            "Trainable params: 1,186,313\n",
            "Non-trainable params: 1,782,600\n",
            "_________________________________________________________________\n"
          ]
        }
      ]
    },
    {
      "cell_type": "code",
      "source": [
        "from tensorflow import keras\n",
        "from keras.utils.vis_utils import plot_model\n",
        "\n",
        "plot_model(model, show_layer_names=True, show_layer_activations=True, to_file='model.png')"
      ],
      "metadata": {
        "colab": {
          "base_uri": "https://localhost:8080/",
          "height": 617
        },
        "id": "FLRmRsXNtp8Q",
        "outputId": "18ff7417-1c63-4e31-ba4b-5ddb48850220"
      },
      "execution_count": 23,
      "outputs": [
        {
          "output_type": "execute_result",
          "data": {
            "image/png": "[encoded data removed]",
            "text/plain": [
              "<IPython.core.display.Image object>"
            ]
          },
          "metadata": {},
          "execution_count": 23
        }
      ]
    },
    {
      "cell_type": "code",
      "source": [
        "from tensorflow.keras.callbacks import ModelCheckpoint\n",
        "\n",
        "checkpoint = ModelCheckpoint('word_predv4.h5', monitor='val_accuracy', save_best_only=True, verbose=verbosity_mode)\n",
        "# compile network\n",
        "model.compile(loss=loss_function, optimizer=optimizer, metrics=additional_metrics)"
      ],
      "metadata": {
        "id": "wxK5nr85txAG"
      },
      "execution_count": 26,
      "outputs": []
    },
    {
      "cell_type": "code",
      "source": [
        "#training\n",
        "val_split = 0.2\n",
        "\n",
        "history = model.fit(X, y, epochs=epochs, validation_split=val_split, batch_size=64, callbacks=[checkpoint])"
      ],
      "metadata": {
        "colab": {
          "base_uri": "https://localhost:8080/"
        },
        "id": "uAUX1kgKuTl7",
        "outputId": "0c47ff0b-7124-4ea0-9a4c-c8871b8ee4bc"
      },
      "execution_count": 27,
      "outputs": [
        {
          "output_type": "stream",
          "name": "stdout",
          "text": [
            "Epoch 1/20\n",
            "1389/1390 [============================>.] - ETA: 0s - loss: 6.8162 - accuracy: 0.0490\n",
            "Epoch 1: val_accuracy improved from -inf to 0.04820, saving model to word_predv4.h5\n",
            "1390/1390 [==============================] - 107s 73ms/step - loss: 6.8160 - accuracy: 0.0490 - val_loss: 6.8415 - val_accuracy: 0.0482\n",
            "Epoch 2/20\n",
            "1390/1390 [==============================] - ETA: 0s - loss: 6.4549 - accuracy: 0.0523\n",
            "Epoch 2: val_accuracy did not improve from 0.04820\n",
            "1390/1390 [==============================] - 113s 81ms/step - loss: 6.4549 - accuracy: 0.0523 - val_loss: 6.8969 - val_accuracy: 0.0482\n",
            "Epoch 3/20\n",
            "1389/1390 [============================>.] - ETA: 0s - loss: 6.4072 - accuracy: 0.0523\n",
            "Epoch 3: val_accuracy did not improve from 0.04820\n",
            "1390/1390 [==============================] - 95s 69ms/step - loss: 6.4075 - accuracy: 0.0523 - val_loss: 6.9290 - val_accuracy: 0.0482\n",
            "Epoch 4/20\n",
            "1390/1390 [==============================] - ETA: 0s - loss: 6.3439 - accuracy: 0.0550\n",
            "Epoch 4: val_accuracy improved from 0.04820 to 0.05791, saving model to word_predv4.h5\n",
            "1390/1390 [==============================] - 94s 68ms/step - loss: 6.3439 - accuracy: 0.0550 - val_loss: 6.9283 - val_accuracy: 0.0579\n",
            "Epoch 5/20\n",
            "1390/1390 [==============================] - ETA: 0s - loss: 6.2322 - accuracy: 0.0655\n",
            "Epoch 5: val_accuracy improved from 0.05791 to 0.06385, saving model to word_predv4.h5\n",
            "1390/1390 [==============================] - 95s 69ms/step - loss: 6.2322 - accuracy: 0.0655 - val_loss: 6.8414 - val_accuracy: 0.0638\n",
            "Epoch 6/20\n",
            "1390/1390 [==============================] - ETA: 0s - loss: 6.1324 - accuracy: 0.0704\n",
            "Epoch 6: val_accuracy improved from 0.06385 to 0.06718, saving model to word_predv4.h5\n",
            "1390/1390 [==============================] - 101s 73ms/step - loss: 6.1324 - accuracy: 0.0704 - val_loss: 6.8376 - val_accuracy: 0.0672\n",
            "Epoch 7/20\n",
            "1390/1390 [==============================] - ETA: 0s - loss: 6.0501 - accuracy: 0.0733\n",
            "Epoch 7: val_accuracy improved from 0.06718 to 0.07104, saving model to word_predv4.h5\n",
            "1390/1390 [==============================] - 98s 70ms/step - loss: 6.0501 - accuracy: 0.0733 - val_loss: 6.8229 - val_accuracy: 0.0710\n",
            "Epoch 8/20\n",
            "1390/1390 [==============================] - ETA: 0s - loss: 5.9756 - accuracy: 0.0777\n",
            "Epoch 8: val_accuracy improved from 0.07104 to 0.07311, saving model to word_predv4.h5\n",
            "1390/1390 [==============================] - 101s 72ms/step - loss: 5.9756 - accuracy: 0.0777 - val_loss: 6.8330 - val_accuracy: 0.0731\n",
            "Epoch 9/20\n",
            "1390/1390 [==============================] - ETA: 0s - loss: 5.9034 - accuracy: 0.0805\n",
            "Epoch 9: val_accuracy improved from 0.07311 to 0.07536, saving model to word_predv4.h5\n",
            "1390/1390 [==============================] - 99s 72ms/step - loss: 5.9034 - accuracy: 0.0805 - val_loss: 6.8286 - val_accuracy: 0.0754\n",
            "Epoch 10/20\n",
            "1390/1390 [==============================] - ETA: 0s - loss: 5.8312 - accuracy: 0.0859\n",
            "Epoch 10: val_accuracy improved from 0.07536 to 0.08264, saving model to word_predv4.h5\n",
            "1390/1390 [==============================] - 97s 70ms/step - loss: 5.8312 - accuracy: 0.0859 - val_loss: 6.8322 - val_accuracy: 0.0826\n",
            "Epoch 11/20\n",
            "1390/1390 [==============================] - ETA: 0s - loss: 5.7583 - accuracy: 0.0919\n",
            "Epoch 11: val_accuracy improved from 0.08264 to 0.08719, saving model to word_predv4.h5\n",
            "1390/1390 [==============================] - 102s 73ms/step - loss: 5.7583 - accuracy: 0.0919 - val_loss: 6.8133 - val_accuracy: 0.0872\n",
            "Epoch 12/20\n",
            "1390/1390 [==============================] - ETA: 0s - loss: 5.6881 - accuracy: 0.0959\n",
            "Epoch 12: val_accuracy improved from 0.08719 to 0.09276, saving model to word_predv4.h5\n",
            "1390/1390 [==============================] - 104s 75ms/step - loss: 5.6881 - accuracy: 0.0959 - val_loss: 6.7988 - val_accuracy: 0.0928\n",
            "Epoch 13/20\n",
            "1390/1390 [==============================] - ETA: 0s - loss: 5.6209 - accuracy: 0.0997\n",
            "Epoch 13: val_accuracy improved from 0.09276 to 0.09595, saving model to word_predv4.h5\n",
            "1390/1390 [==============================] - 101s 73ms/step - loss: 5.6209 - accuracy: 0.0997 - val_loss: 6.8035 - val_accuracy: 0.0960\n",
            "Epoch 14/20\n",
            "1390/1390 [==============================] - ETA: 0s - loss: 5.5575 - accuracy: 0.1024\n",
            "Epoch 14: val_accuracy improved from 0.09595 to 0.09784, saving model to word_predv4.h5\n",
            "1390/1390 [==============================] - 98s 70ms/step - loss: 5.5575 - accuracy: 0.1024 - val_loss: 6.7906 - val_accuracy: 0.0978\n",
            "Epoch 15/20\n",
            "1390/1390 [==============================] - ETA: 0s - loss: 5.4973 - accuracy: 0.1053\n",
            "Epoch 15: val_accuracy improved from 0.09784 to 0.10009, saving model to word_predv4.h5\n",
            "1390/1390 [==============================] - 102s 73ms/step - loss: 5.4973 - accuracy: 0.1053 - val_loss: 6.7969 - val_accuracy: 0.1001\n",
            "Epoch 16/20\n",
            "1390/1390 [==============================] - ETA: 0s - loss: 5.4401 - accuracy: 0.1082\n",
            "Epoch 16: val_accuracy improved from 0.10009 to 0.10193, saving model to word_predv4.h5\n",
            "1390/1390 [==============================] - 103s 74ms/step - loss: 5.4401 - accuracy: 0.1082 - val_loss: 6.7867 - val_accuracy: 0.1019\n",
            "Epoch 17/20\n",
            "1390/1390 [==============================] - ETA: 0s - loss: 5.3857 - accuracy: 0.1108\n",
            "Epoch 17: val_accuracy improved from 0.10193 to 0.10337, saving model to word_predv4.h5\n",
            "1390/1390 [==============================] - 98s 70ms/step - loss: 5.3857 - accuracy: 0.1108 - val_loss: 6.8197 - val_accuracy: 0.1034\n",
            "Epoch 18/20\n",
            "1390/1390 [==============================] - ETA: 0s - loss: 5.3339 - accuracy: 0.1126\n",
            "Epoch 18: val_accuracy did not improve from 0.10337\n",
            "1390/1390 [==============================] - 102s 73ms/step - loss: 5.3339 - accuracy: 0.1126 - val_loss: 6.8536 - val_accuracy: 0.1030\n",
            "Epoch 19/20\n",
            "1390/1390 [==============================] - ETA: 0s - loss: 5.2844 - accuracy: 0.1140\n",
            "Epoch 19: val_accuracy improved from 0.10337 to 0.10382, saving model to word_predv4.h5\n",
            "1390/1390 [==============================] - 101s 73ms/step - loss: 5.2844 - accuracy: 0.1140 - val_loss: 6.8714 - val_accuracy: 0.1038\n",
            "Epoch 20/20\n",
            "1390/1390 [==============================] - ETA: 0s - loss: 5.2375 - accuracy: 0.1159\n",
            "Epoch 20: val_accuracy improved from 0.10382 to 0.10652, saving model to word_predv4.h5\n",
            "1390/1390 [==============================] - 102s 73ms/step - loss: 5.2375 - accuracy: 0.1159 - val_loss: 6.9083 - val_accuracy: 0.1065\n"
          ]
        }
      ]
    },
    {
      "cell_type": "code",
      "source": [
        "import matplotlib.pyplot as plt\n",
        "\n",
        "# summarize history for accuracy\n",
        "plt.plot(history.history['accuracy'])\n",
        "plt.plot(history.history['val_accuracy'])\n",
        "plt.title('model Accuracy')\n",
        "plt.ylabel('accuracy')\n",
        "plt.xlabel('epoch')\n",
        "plt.legend(['train', 'test'], loc='upper left')\n",
        "plt.show()\n",
        "\n",
        "# summarize history for loss\n",
        "plt.plot(history.history['loss'])\n",
        "plt.plot(history.history['val_loss'])\n",
        "plt.title('model loss')\n",
        "plt.ylabel('loss')\n",
        "plt.xlabel('epoch')\n",
        "plt.legend(['train', 'test'], loc='upper left')\n",
        "plt.show()"
      ],
      "metadata": {
        "colab": {
          "base_uri": "https://localhost:8080/",
          "height": 573
        },
        "id": "6qSsTLnQv1be",
        "outputId": "f95dad63-fafd-401f-9825-6da0f03a0415"
      },
      "execution_count": 28,
      "outputs": [
        {
          "output_type": "display_data",
          "data": {
            "text/plain": [
              "<Figure size 432x288 with 1 Axes>"
            ],
            "image/png": "[encoded data removed]"
          },
          "metadata": {
            "needs_background": "light"
          }
        },
        {
          "output_type": "display_data",
          "data": {
            "text/plain": [
              "<Figure size 432x288 with 1 Axes>"
            ],
            "image/png": "[encoded data removed]"
          },
          "metadata": {
            "needs_background": "light"
          }
        }
      ]
    },
    {
      "cell_type": "markdown",
      "source": [
        "## Here we can test the model using our sentences\n",
        "*keep in mind that the model have only seen the sentences in the book*"
      ],
      "metadata": {
        "id": "hY7e97rcIw9b"
      }
    },
    {
      "cell_type": "code",
      "source": [
        "text = 'it was clear that killer was'\n",
        "sequence = tokenizer.texts_to_sequences([text])\n",
        "sequence = np.array(sequence)\n",
        "\n",
        "out = model.predict(sequence)\n",
        "\n",
        "print(len(out))\n",
        "print(out)\n",
        "print(out.shape)\n",
        "sorted_index_array = np.argsort(out)\n",
        "outs = sorted_index_array[0][-5:]\n",
        "print(outs)\n",
        "\n",
        "for i in outs:\n",
        "  word = find_word(i)\n",
        "  print(word)"
      ],
      "metadata": {
        "colab": {
          "base_uri": "https://localhost:8080/"
        },
        "id": "TqveP_7kzNcT",
        "outputId": "400079b1-e7d9-4ff0-8f4d-4468cb18c3b4"
      },
      "execution_count": 29,
      "outputs": [
        {
          "output_type": "stream",
          "name": "stdout",
          "text": [
            "1/1 [==============================] - 1s 1s/step\n",
            "1\n",
            "[[1.2431484e-10 3.7689231e-02 1.5654247e-03 ... 1.2974347e-10\n",
            "  1.2728886e-10 1.1430161e-10]]\n",
            "(1, 8913)\n",
            "[44 51  1 41  5]\n",
            "very\n",
            "no\n",
            "the\n",
            "been\n",
            "a\n"
          ]
        }
      ]
    },
    {
      "cell_type": "markdown",
      "source": [
        "### These functions are used to predict and find the next word"
      ],
      "metadata": {
        "id": "1keKtDOxJDJr"
      }
    },
    {
      "cell_type": "code",
      "source": [
        "from tensorflow.keras.models import load_model\n",
        "import pickle\n",
        "import numpy as np\n",
        "\n",
        "model = load_model('word_predv4.h5')\n",
        "tokenizer = pickle.load(open('wordPredv4.pkl', 'rb'))"
      ],
      "metadata": {
        "id": "9nZuFPJyv2J8"
      },
      "execution_count": 30,
      "outputs": []
    },
    {
      "cell_type": "code",
      "source": [
        "def word_pred(model, tokenizer, text):\n",
        "  sequence = tokenizer.texts_to_sequences([text])\n",
        "  sequence = np.array(sequence)\n",
        "  return np.argmax(model.predict(sequence))\n",
        "\n",
        "def new_text(model, tokenizer, text):\n",
        "  text = text.split(' ')\n",
        "  seq= text[(-1*var):]\n",
        "  word = find_word(word_pred(model, tokenizer, seq))\n",
        "  text.append(word)\n",
        "  text = ' '.join(text)\n",
        "  return text"
      ],
      "metadata": {
        "id": "IXYGsOXbwDF5"
      },
      "execution_count": 31,
      "outputs": []
    },
    {
      "cell_type": "markdown",
      "source": [
        "## TRY IT !!!"
      ],
      "metadata": {
        "id": "KXkL0EFOJLp7"
      }
    },
    {
      "cell_type": "code",
      "source": [
        "while(True):\n",
        "  num = int(input(\"number of words to predict ('0' to exit)\\n\"))\n",
        "  if num == 0:\n",
        "    print('<<<<<Thank you for using this model>>>>>')\n",
        "    break\n",
        "  text = input(\"Enter your line \\n\")\n",
        "  text = text.lower()\n",
        "\n",
        "\n",
        "  try:\n",
        "    for i in range(num):\n",
        "      text = new_text(model, tokenizer, text)\n",
        "    \n",
        "    print('\\n', text, '\\n')\n",
        "\n",
        "  except Exception as e:\n",
        "        print(\"Error occurred: \",e)\n",
        "        continue"
      ],
      "metadata": {
        "colab": {
          "base_uri": "https://localhost:8080/"
        },
        "id": "6z6qENlGwDXe",
        "outputId": "0863f2bb-5eba-42ff-ea99-17c7c032fd99"
      },
      "execution_count": 36,
      "outputs": [
        {
          "output_type": "stream",
          "name": "stdout",
          "text": [
            "number of words to predict ('0' to exit)\n",
            "5\n",
            "Enter your line \n",
            "there was a big doll behind the\n",
            "1/1 [==============================] - 0s 25ms/step\n",
            "1/1 [==============================] - 0s 31ms/step\n",
            "1/1 [==============================] - 0s 26ms/step\n",
            "1/1 [==============================] - 0s 30ms/step\n",
            "1/1 [==============================] - 0s 25ms/step\n",
            "\n",
            " there was a big doll behind the door and the other of \n",
            "\n",
            "number of words to predict ('0' to exit)\n",
            "0\n",
            "<<<<<Thank you for using this model>>>>>\n"
          ]
        }
      ]
    }
  ]
}